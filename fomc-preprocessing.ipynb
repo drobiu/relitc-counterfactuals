{
 "cells": [
  {
   "cell_type": "code",
   "execution_count": 9,
   "id": "8928b43a",
   "metadata": {},
   "outputs": [],
   "source": [
    "import unicodedata\n",
    "import html\n",
    "import pandas as pd\n",
    "import os\n",
    "from urllib.request import urlretrieve\n",
    "import tarfile "
   ]
  },
  {
   "cell_type": "code",
   "execution_count": 10,
   "id": "fd388f5e",
   "metadata": {},
   "outputs": [],
   "source": [
    "raw_data_root = \"data/\"\n",
    "raw_data_dir = os.path.join(raw_data_root, \"fomc/\")\n",
    "\n",
    "url = \"https://github.com/gtfintechlab/fomc-hawkish-dovish/archive/refs/heads/main.tar.gz\"\n",
    "file = \"main.tar.gz\"\n",
    "filepath = os.path.join(raw_data_dir, file)\n",
    "\n",
    "if not os.path.isdir(raw_data_dir):\n",
    "    os.makedirs(raw_data_dir)\n",
    "    \n",
    "if not os.path.isdir(filepath):\n",
    "    urlretrieve(url, filepath)\n",
    "    \n",
    "file = tarfile.open(filepath) \n",
    "\n",
    "file.extractall(raw_data_dir) \n",
    "\n",
    "file.close() "
   ]
  },
  {
   "cell_type": "code",
   "execution_count": 43,
   "id": "d55d8aa9",
   "metadata": {},
   "outputs": [],
   "source": [
    "train_filename = \"lab-manual-split-combine-train-944601\"\n",
    "test_filename = \"lab-manual-split-combine-test-944601\"\n",
    "train_data_path = os.path.join(raw_data_dir, \"fomc-hawkish-dovish-main/training_data/test-and-training/training_data/\")\n",
    "test_data_path = os.path.join(raw_data_dir, \"fomc-hawkish-dovish-main/training_data/test-and-training/test_data/\")\n",
    "\n",
    "train_dfs = []\n",
    "test_dfs = []\n",
    "\n",
    "for filename in os.listdir(train_data_path):\n",
    "    if train_filename in filename:\n",
    "        train_dfs.append(pd.DataFrame(pd.read_excel(os.path.join(train_data_path, filename))))\n",
    "\n",
    "for filename in os.listdir(test_data_path):\n",
    "    if test_filename in filename:\n",
    "        test_dfs.append(pd.DataFrame(pd.read_excel(os.path.join(test_data_path, filename))))\n",
    "        \n",
    "train = pd.concat(train_dfs)\n",
    "test = pd.concat(test_dfs)\n",
    "\n",
    "train = train.drop(columns=['index', 'year', 'orig_index'])\n",
    "test = test.drop(columns=['index', 'year', 'orig_index'])"
   ]
  },
  {
   "cell_type": "code",
   "execution_count": 40,
   "id": "000b7995",
   "metadata": {},
   "outputs": [],
   "source": [
    "train.to_csv(os.path.join(raw_data_dir, 'train.csv'))\n",
    "test.to_csv(os.path.join(raw_data_dir, 'test.csv'))"
   ]
  },
  {
   "cell_type": "code",
   "execution_count": 57,
   "id": "af602938",
   "metadata": {},
   "outputs": [],
   "source": [
    "for label in [0, 1, 2]:\n",
    "    train[train['label'] == label].to_csv(os.path.join(raw_data_dir, f'train_label_{label}.csv'))\n",
    "    test[test['label'] == label].to_csv(os.path.join(raw_data_dir, f'test_label_{label}.csv'))"
   ]
  },
  {
   "cell_type": "code",
   "execution_count": null,
   "id": "5b990209",
   "metadata": {},
   "outputs": [],
   "source": []
  }
 ],
 "metadata": {
  "kernelspec": {
   "display_name": "Python 3 (ipykernel)",
   "language": "python",
   "name": "python3"
  },
  "language_info": {
   "codemirror_mode": {
    "name": "ipython",
    "version": 3
   },
   "file_extension": ".py",
   "mimetype": "text/x-python",
   "name": "python",
   "nbconvert_exporter": "python",
   "pygments_lexer": "ipython3",
   "version": "3.11.5"
  }
 },
 "nbformat": 4,
 "nbformat_minor": 5
}
